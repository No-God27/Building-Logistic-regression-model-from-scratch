{
 "cells": [
  {
   "cell_type": "code",
   "execution_count": 2,
   "id": "a5d7003c-b807-4398-bb7a-af6286cc825b",
   "metadata": {},
   "outputs": [],
   "source": [
    "import numpy as np \n",
    "import pandas as pd\n",
    "import matplotlib.pyplot as plt\n",
    "import warnings\n",
    "warnings.filterwarnings('ignore')\n"
   ]
  },
  {
   "cell_type": "code",
   "execution_count": null,
   "id": "de0b021e-e35f-4fc6-bf33-0a4c1ee187bb",
   "metadata": {},
   "outputs": [],
   "source": [
    "class Logistic_Regression : \n",
    "    \n",
    "    def __init__(self, learning_rate, iterations): # initialize rate and no of iterations\n",
    "        self.learning_rate = learning_rate\n",
    "        self.iterations = iterations\n",
    "\n",
    "\n",
    "    def fit(self,X,y ): # fit data to model\n",
    "    # X is features which is experience(which we use to train the model)  and y which is salary(which is final output we need to predict) is label.\n",
    "        self.m, self.n = X.shape\n",
    "\n",
    "\n",
    "        #initializng weights and bias as zero or null.\n",
    "\n",
    "        self.w = np.zeros(self.n)\n",
    "        self.b = 0\n",
    "\n",
    "    # we are creating a numpy array for the weight but only creating a single value for bias. This is because a dataset may contain different\n",
    "    # number of features and each feature associated with a weight, whereas, a model has only one bias.\n",
    "        self.X = X\n",
    "        self.y = y\n",
    "\n",
    "    # implementing gradient descent\n",
    "        for i in range(self.iterations):\n",
    "            self.update_weights()\n",
    "\n",
    "    def update weight(self,): \n",
    "\n",
    "\n",
    "\n",
    "\n",
    "    def predict(self,)"
   ]
  }
 ],
 "metadata": {
  "kernelspec": {
   "display_name": "Python 3 (ipykernel)",
   "language": "python",
   "name": "python3"
  },
  "language_info": {
   "codemirror_mode": {
    "name": "ipython",
    "version": 3
   },
   "file_extension": ".py",
   "mimetype": "text/x-python",
   "name": "python",
   "nbconvert_exporter": "python",
   "pygments_lexer": "ipython3",
   "version": "3.10.0"
  }
 },
 "nbformat": 4,
 "nbformat_minor": 5
}
